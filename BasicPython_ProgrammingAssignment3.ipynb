{
 "cells": [
  {
   "cell_type": "code",
   "execution_count": null,
   "metadata": {},
   "outputs": [],
   "source": [
    "## Write a Python Program to Check if a Number is Positive, Negative or Zero?\n",
    "n=int(input())\n",
    "if n==0:\n",
    "    print(\"The number you entered is 0\")\n",
    "elif n>0:\n",
    "    print(\"The number you entered is positive\")\n",
    "else:\n",
    "    print(\"The number you entered is negative\")"
   ]
  },
  {
   "cell_type": "code",
   "execution_count": null,
   "metadata": {},
   "outputs": [],
   "source": [
    "## Write a Python Program to Check if a Number is Odd or Even?\n",
    "n=int(input())\n",
    "if n%2==0:\n",
    "    print(\"Even number\")\n",
    "else:\n",
    "    print(\"Odd number\")"
   ]
  },
  {
   "cell_type": "code",
   "execution_count": null,
   "metadata": {},
   "outputs": [],
   "source": [
    "## Write a Python Program to Check Leap Year?\n",
    "year=int(input())\n",
    "if year%4==0:\n",
    "    if year%100==0:\n",
    "        if year%400==0:\n",
    "            print(\"Leap year\")\n",
    "        else:\n",
    "            print(\"Not a leap year\")\n",
    "\n",
    "    else:\n",
    "        print(\"Not a leap year\")\n",
    "\n",
    "else:\n",
    "    print(\"Not a leap year\")"
   ]
  },
  {
   "cell_type": "code",
   "execution_count": null,
   "metadata": {},
   "outputs": [],
   "source": [
    "n=int(input())\n",
    "i=2\n",
    "number_is_composite=False\n",
    "while i<n:\n",
    "    if n%i==0:\n",
    "        number_is_composite=True\n",
    "        break\n",
    "    i=i+1\n",
    "if number_is_composite:\n",
    "    print(\"Composite number\")\n",
    "else:\n",
    "    print(\"Prime number\")"
   ]
  },
  {
   "cell_type": "code",
   "execution_count": null,
   "metadata": {},
   "outputs": [],
   "source": [
    "## Write a Python Program to Print all Prime Numbers in an Interval of 1-10000?\n",
    "def is_prime(n):\n",
    "    i=2\n",
    "    number_is_composite=False\n",
    "    while i<n:\n",
    "        if n%i==0:\n",
    "            number_is_composite=True\n",
    "            break\n",
    "        i=i+1\n",
    "    if number_is_composite:\n",
    "        return False\n",
    "    else:\n",
    "        return True\n",
    "my_list=[]\n",
    "for number in range(2,10000):\n",
    "    if is_prime(number)==True:\n",
    "        my_list.append(number) \n",
    "print(my_list)"
   ]
  }
 ],
 "metadata": {
  "kernelspec": {
   "display_name": "base",
   "language": "python",
   "name": "python3"
  },
  "language_info": {
   "codemirror_mode": {
    "name": "ipython",
    "version": 3
   },
   "file_extension": ".py",
   "mimetype": "text/x-python",
   "name": "python",
   "nbconvert_exporter": "python",
   "pygments_lexer": "ipython3",
   "version": "3.9.13"
  },
  "orig_nbformat": 4,
  "vscode": {
   "interpreter": {
    "hash": "b302cdd1e032ee910f5c889c3360c28564c92ad4f326fc3102e39fbe47faee66"
   }
  }
 },
 "nbformat": 4,
 "nbformat_minor": 2
}
